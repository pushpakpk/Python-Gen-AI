{
  "nbformat": 4,
  "nbformat_minor": 0,
  "metadata": {
    "colab": {
      "provenance": [],
      "authorship_tag": "ABX9TyPy80Cntd00L9eJ9y+ax6A3",
      "include_colab_link": true
    },
    "kernelspec": {
      "name": "python3",
      "display_name": "Python 3"
    },
    "language_info": {
      "name": "python"
    }
  },
  "cells": [
    {
      "cell_type": "markdown",
      "metadata": {
        "id": "view-in-github",
        "colab_type": "text"
      },
      "source": [
        "<a href=\"https://colab.research.google.com/github/pushpakpk/Python-Gen-AI/blob/main/pushpak_API.ipynb\" target=\"_parent\"><img src=\"https://colab.research.google.com/assets/colab-badge.svg\" alt=\"Open In Colab\"/></a>"
      ]
    },
    {
      "cell_type": "code",
      "execution_count": null,
      "metadata": {
        "id": "V6F5CdCC0aRd"
      },
      "outputs": [],
      "source": [
        "Original file is located at\n",
        "    https://colab.research.google.com/drive/1MBvrL-aYr1H15UiPiahBRBG0sss2pIMB"
      ]
    },
    {
      "cell_type": "code",
      "source": [
        "import requests\n",
        "import json\n",
        "import re\n",
        "from typing import List, Dict"
      ],
      "metadata": {
        "id": "hCjvva-s0xYf"
      },
      "execution_count": 1,
      "outputs": []
    },
    {
      "cell_type": "code",
      "source": [
        "def fetch_data(url: str):\n",
        "    \"\"\"Fetch data from the API.\"\"\"\n",
        "    response = requests.get(url)\n",
        "    if response.status_code == 200:\n",
        "        data = response.json()\n",
        "        print(f\"Type of data: {type(data)}\")\n",
        "        # print(f\"Content of data: {data}\")\n",
        "        return data\n",
        "    else:\n",
        "        print(f\"Failed to fetch data. Status code: {response.status_code}\")\n",
        "        return None\n",
        "\n",
        "\n",
        "def parse_data(data):\n",
        "    \"\"\"Attempt to parse the data, handling various possible structures.\"\"\"\n",
        "    if isinstance(data, dict) and 'data' in data and 'data' in data['data']:\n",
        "        return data['data']['data']\n",
        "    else:\n",
        "        print(\"Unexpected data structure. Unable to parse.\")\n",
        "        return []\n",
        "\n",
        "\n",
        "def identify_sources_and_collect_citations(parsed_data: List[Dict]) -> List[Dict]:\n",
        "    \"\"\"Identify sources and collect citations, filtering out incomplete entries.\"\"\"\n",
        "    citations = []\n",
        "    for item in parsed_data:\n",
        "        response_text = item['response']\n",
        "        sources = item.get('source', [])\n",
        "        for source in sources:\n",
        "            url = source.get('link', '')\n",
        "            if url:\n",
        "                citations.append({\"id\": source['id'], \"link\": url})\n",
        "    return citations\n",
        "\n",
        "# Example usage\n",
        "url = \"https://devapi.beyondchats.com/api/get_message_with_sources\"\n",
        "data = fetch_data(url)\n",
        "parsed_data = parse_data(data)\n",
        "if parsed_data:\n",
        "    citations = identify_sources_and_collect_citations(parsed_data)\n",
        "    print(citations)\n",
        "else:\n",
        "    print(\"No valid data to process.\")"
      ],
      "metadata": {
        "colab": {
          "base_uri": "https://localhost:8080/"
        },
        "id": "6PxBgCxB06fd",
        "outputId": "fdd40dd1-0870-4376-c87c-5111e7bb8bf8"
      },
      "execution_count": 2,
      "outputs": [
        {
          "output_type": "stream",
          "name": "stdout",
          "text": [
            "Type of data: <class 'dict'>\n",
            "[{'id': '8', 'link': 'https://www.brikoven.com/reservations'}, {'id': '9', 'link': 'https://www.brikoven.com/stores-direction-info-copy'}, {'id': '2', 'link': 'https://www.brikoven.com/deli'}, {'id': '127', 'link': 'https://www.brikoven.com/qr-menu'}, {'id': '126', 'link': 'https://www.brikoven.com/qr-menu'}, {'id': '115', 'link': 'https://www.brikoven.com/qr-menu'}, {'id': '4714', 'link': 'https://www.drmalpani.com/knowledge-center/articles/cost-of-ivf'}, {'id': '2424', 'link': 'https://www.drmalpani.com/knowledge-center/articles/pus-cells-in-the-semen---and-how-to-make-sense-of-the-report'}, {'id': '4097', 'link': 'https://www.drmalpani.com/knowledge-center/articles/pus-cells-in-the-semen---and-how-to-make-sense-of-the-report'}, {'id': '4097', 'link': 'https://www.drmalpani.com/knowledge-center/articles/pus-cells-in-the-semen---and-how-to-make-sense-of-the-report'}, {'id': '16807', 'link': 'https://www.indianangel.in/are-we-the-right-investors-for-you/15239/'}, {'id': '9133', 'link': 'https://www.indianangel.in/when-i-first-started-investing-in-startups-we-would-take-2/3831/'}, {'id': '8859', 'link': 'https://www.indianangel.in/most-investors-prefer-funding-new-startups-in-the-hope/3555/'}, {'id': '9132', 'link': 'https://www.indianangel.in/when-i-first-started-investing-in-startups-we-would-take/3830/'}, {'id': '16210', 'link': 'https://www.indianangel.in/the-mvp-minimum-viable-product-myth/11299/'}, {'id': '11179', 'link': 'https://www.indianangel.in/an-entrepreneur-emailed-me-this-query-is-there-a-way/5882/'}, {'id': '2', 'link': 'https://mindworksbuddy.com/counselor-detail/'}, {'id': '2', 'link': 'https://mindworksbuddy.com/counselor-detail/'}, {'id': '3', 'link': 'https://mindworksbuddy.com/mind-work-buddy/'}]\n"
          ]
        }
      ]
    }
  ]
}